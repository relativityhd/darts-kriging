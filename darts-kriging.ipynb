{
 "cells": [
  {
   "cell_type": "markdown",
   "metadata": {},
   "source": [
    "## Load data"
   ]
  },
  {
   "cell_type": "code",
   "execution_count": null,
   "metadata": {},
   "outputs": [],
   "source": [
    "import geopandas as gpd\n",
    "\n",
    "canadian_terretories = gpd.read_file(\"./data/lpr_000b16a_e/lpr_000b16a_e.shp\")\n",
    "nwt = canadian_terretories[canadian_terretories.PREABBR == \"N.W.T.\"]\n",
    "banks_island = nwt.explode().reset_index()[2:3]\n",
    "del nwt, canadian_terretories\n",
    "banks_island.explore()"
   ]
  },
  {
   "cell_type": "code",
   "execution_count": null,
   "metadata": {},
   "outputs": [],
   "source": [
    "from odc.geo.geobox import GeoBox, Resolution\n",
    "\n",
    "aoi = GeoBox.from_bbox(banks_island.to_crs(\"EPSG:3413\").total_bounds, resolution=Resolution(32, -32), crs=\"EPSG:3413\")\n",
    "aoi"
   ]
  },
  {
   "cell_type": "code",
   "execution_count": null,
   "metadata": {},
   "outputs": [],
   "source": [
    "import geopandas as gpd\n",
    "\n",
    "rts = gpd.read_file(\"./data/DARTS_NitzeEtAl_v1_features_2023_BANKS_level2_enriched.gpkg\")\n",
    "rts"
   ]
  },
  {
   "cell_type": "code",
   "execution_count": null,
   "metadata": {},
   "outputs": [],
   "source": [
    "import odc.geo.xr\n",
    "from smart_geocubes.datasets import ArcticDEM32m\n",
    "\n",
    "adem_accessor = ArcticDEM32m(\"./data/arcticdem32m.icechunk\")\n",
    "try:\n",
    "    adem_accessor.create()\n",
    "except FileExistsError:\n",
    "    pass\n",
    "\n",
    "adem = adem_accessor.load(aoi)\n",
    "\n",
    "# Crop to banks island\n",
    "geom = odc.geo.geom.Geometry(banks_island.to_crs(\"EPSG:3413\").iloc[0].geometry, crs=\"EPSG:3413\")\n",
    "rasterized = odc.geo.xr.rasterize(geom, adem.odc.geobox)\n",
    "adem = adem.where(rasterized)\n",
    "del rasterized, geom\n",
    "\n",
    "adem"
   ]
  },
  {
   "cell_type": "code",
   "execution_count": null,
   "metadata": {},
   "outputs": [],
   "source": [
    "from folium import LayerControl\n",
    "\n",
    "m = rts.explore(column=\"area_m2\", name=\"rts\", tiles=\"CartoDB positron\")\n",
    "adem.dem.odc.explore(map=m, cmap=\"gray\")\n",
    "LayerControl().add_to(m)\n",
    "m"
   ]
  },
  {
   "cell_type": "code",
   "execution_count": null,
   "metadata": {},
   "outputs": [],
   "source": [
    "import seaborn as sns\n",
    "\n",
    "sns.jointplot(data=rts, x=\"area_m2\", y=\"avg_elevation\", kind=\"hex\")"
   ]
  },
  {
   "cell_type": "markdown",
   "metadata": {},
   "source": [
    "## Complete Spatial Randomness"
   ]
  },
  {
   "cell_type": "code",
   "execution_count": null,
   "metadata": {},
   "outputs": [],
   "source": [
    "import numpy as np\n",
    "import scipy.stats as stats\n",
    "import xarray as xr\n",
    "import polars as pl\n",
    "import hvplot.polars\n",
    "\n",
    "\n",
    "def quad_count(gdf: gpd.GeoDataFrame, nbins: int) -> xr.DataArray:\n",
    "    \"\"\"Rasterize a GeoDataFrame with quad-counting.\n",
    "\n",
    "    Args:\n",
    "        gdf (gpd.GeoDataFrame): GeoDataFrame to rasterize.\n",
    "        nbins (int): Number of bins in each dimension.\n",
    "\n",
    "    Returns:\n",
    "        xr.DataArray: Rasterized data.\n",
    "\n",
    "    \"\"\"\n",
    "    counts, xedges, yedges = np.histogram2d(gdf.geometry.x, gdf.geometry.y, bins=nbins)\n",
    "    x_coords = (xedges[1:] + xedges[:-1]) / 2\n",
    "    y_coords = (yedges[1:] + yedges[:-1]) / 2\n",
    "    xcounts = xr.DataArray(counts, coords={\"x\": x_coords, \"y\": y_coords}, dims=[\"x\", \"y\"], name=\"counts\")\n",
    "    xcounts = xcounts.odc.assign_crs(gdf.crs)\n",
    "    xcounts = xcounts.transpose(\"y\", \"x\")\n",
    "    return xcounts\n",
    "\n",
    "\n",
    "def quad_test(gdf: gpd.GeoDataFrame, nbins: int) -> tuple[float, float]:\n",
    "    \"\"\"Test quad-counting.\n",
    "\n",
    "    Args:\n",
    "        gdf (gpd.GeoDataFrame): GeoDataFrame to rasterize.\n",
    "        nbins (int): Number of bins in each dimension.\n",
    "\n",
    "    Returns:\n",
    "        float: Test statistic.\n",
    "\n",
    "    \"\"\"\n",
    "    counts = quad_count(gdf, nbins)\n",
    "    estc = len(gdf) / counts.size\n",
    "    pearson_residuals = (counts - estc) / np.sqrt(estc)\n",
    "    chi_squared = (pearson_residuals**2 / estc).sum().item()\n",
    "    # expected_chi_squared = stats.chi2.isf(0.05, df=counts.size - 1)\n",
    "    p_value = stats.chi2.sf(chi_squared, df=counts.size - 1)\n",
    "    return chi_squared, p_value\n",
    "\n",
    "\n",
    "# Turn rts into points\n",
    "rts_points = rts.set_geometry(rts.geometry.centroid)\n",
    "\n",
    "quad_tests = pl.DataFrame(\n",
    "    [[int(n_), *quad_test(rts_points, int(n_))] for n_ in np.arange(2, 10, 1)],\n",
    "    orient=\"row\",\n",
    "    schema=[\"n\", \"chi2\", \"p_value\"],\n",
    ")\n",
    "quad_tests.hvplot(x=\"n\", y=\"p_value\", title=\"Quad-counting test\")"
   ]
  },
  {
   "cell_type": "markdown",
   "metadata": {},
   "source": [
    "## Variogram"
   ]
  },
  {
   "cell_type": "code",
   "execution_count": null,
   "metadata": {},
   "outputs": [],
   "source": [
    "import gstools as gs\n",
    "\n",
    "bins = np.arange(0, 400, 10)\n",
    "bin_center, gamma = gs.vario_estimate((rts_points.geometry.x, rts_points.geometry.y), rts_points[\"avg_elevation\"])\n",
    "fit_model = gs.Exponential(dim=2)\n",
    "# Manual experiments showed nugget has very low effect on the variogram - hence we keep the default\n",
    "fit_model.fit_variogram(bin_center, gamma)\n",
    "fit_model.plot(x_max=bin_center.max()).scatter(bin_center, gamma, alpha=0.5);"
   ]
  },
  {
   "cell_type": "code",
   "execution_count": null,
   "metadata": {},
   "outputs": [],
   "source": [
    "import matplotlib.pyplot as plt\n",
    "\n",
    "models = {\n",
    "    \"Gaussian\": gs.Gaussian,\n",
    "    \"Exponential\": gs.Exponential,\n",
    "    \"Matern\": gs.Matern,\n",
    "    \"Stable\": gs.Stable,\n",
    "    \"Rational\": gs.Rational,\n",
    "    \"Circular\": gs.Circular,\n",
    "    \"Spherical\": gs.Spherical,\n",
    "    \"SuperSpherical\": gs.SuperSpherical,\n",
    "    \"JBessel\": gs.JBessel,\n",
    "}\n",
    "scores = {}\n",
    "\n",
    "# plot the estimated variogram\n",
    "plt.scatter(bin_center, gamma, color=\"k\", label=\"data\", alpha=0.5)\n",
    "ax = plt.gca()\n",
    "\n",
    "# fit all models to the estimated variogram\n",
    "for model in models:\n",
    "    fit_model = models[model](dim=2)\n",
    "    try:\n",
    "        para, pcov, r2 = fit_model.fit_variogram(bin_center, gamma, return_r2=True)\n",
    "    except Exception as e:\n",
    "        print(f\"Failed to fit {model}: {e}\")\n",
    "        continue\n",
    "    fit_model.plot(x_max=bin_center.max(), ax=ax)\n",
    "    scores[model] = r2\n",
    "\n",
    "ranking = sorted(scores.items(), key=lambda item: item[1], reverse=True)\n",
    "print(\"RANKING by Pseudo-r2 score\")\n",
    "for i, (model, score) in enumerate(ranking, 1):\n",
    "    print(f\"{i:>6}. {model:>15}: {score:.5}\")\n",
    "\n",
    "plt.show();"
   ]
  },
  {
   "cell_type": "markdown",
   "metadata": {},
   "source": [
    "## Kriging"
   ]
  },
  {
   "cell_type": "code",
   "execution_count": null,
   "metadata": {},
   "outputs": [],
   "source": [
    "model = gs.SuperSpherical(dim=2)\n",
    "para, pcov = model.fit_variogram(bin_center, gamma)\n",
    "ok2 = gs.krige.Ordinary(model, (rts_points.geometry.x, rts_points.geometry.y), rts_points[\"avg_elevation\"])\n",
    "ok2"
   ]
  },
  {
   "cell_type": "code",
   "execution_count": null,
   "metadata": {},
   "outputs": [],
   "source": [
    "grid_x = np.arange(aoi.boundingbox.left, aoi.boundingbox.right, 640)\n",
    "grid_y = np.arange(aoi.boundingbox.top, aoi.boundingbox.bottom, -640)\n",
    "ok2.structured([grid_x, grid_y])\n",
    "# ok2.plot()"
   ]
  },
  {
   "cell_type": "code",
   "execution_count": null,
   "metadata": {},
   "outputs": [],
   "source": []
  }
 ],
 "metadata": {
  "kernelspec": {
   "display_name": ".venv",
   "language": "python",
   "name": "python3"
  },
  "language_info": {
   "codemirror_mode": {
    "name": "ipython",
    "version": 3
   },
   "file_extension": ".py",
   "mimetype": "text/x-python",
   "name": "python",
   "nbconvert_exporter": "python",
   "pygments_lexer": "ipython3",
   "version": "3.12.3"
  }
 },
 "nbformat": 4,
 "nbformat_minor": 2
}
